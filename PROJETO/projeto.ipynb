{
 "cells": [
  {
   "cell_type": "code",
   "execution_count": 1,
   "metadata": {},
   "outputs": [],
   "source": [
    "from pyspark import SparkContext\n",
    "sc = SparkContext()"
   ]
  },
  {
   "cell_type": "code",
   "execution_count": 2,
   "metadata": {},
   "outputs": [],
   "source": [
    "import math\n",
    "import time"
   ]
  },
  {
   "cell_type": "code",
   "execution_count": 3,
   "metadata": {},
   "outputs": [],
   "source": [
    "import winsound\n",
    "def beep(n):\n",
    "    for i in range(0,n):\n",
    "        frequency = 500  # Set Frequency To 2500 Hertz\n",
    "        duration = 500  # Set Duration To 1000 ms == 1 second\n",
    "        winsound.Beep(frequency, duration)"
   ]
  },
  {
   "cell_type": "code",
   "execution_count": 4,
   "metadata": {
    "collapsed": true
   },
   "outputs": [],
   "source": [
    "# carregar base de dados\n",
    "import os.path\n",
    "fileName = os.path.join('C:\\spark\\Data', 'flights2015.csv')\n",
    "numPartitions = 8\n",
    "rawData = sc.textFile(fileName, numPartitions)\n"
   ]
  },
  {
   "cell_type": "code",
   "execution_count": 5,
   "metadata": {},
   "outputs": [],
   "source": [
    "Cancelled = rawData.map(lambda x: x.split(\",\")[24])\n",
    "featMonth = rawData.map(lambda x: x.split(\",\")[1])\n",
    "featDayofMonth = rawData.map(lambda x: x.split(\",\")[2])\n",
    "featDayofWeek = rawData.map(lambda x: x.split(\",\")[3])\n",
    "featAirline =  rawData.map(lambda x: x.split(\",\")[4])\n",
    "\n",
    "featOrigin =  rawData.map(lambda x: x.split(\",\")[7])\n",
    "featDest =  rawData.map(lambda x: x.split(\",\")[8])\n",
    "featTailNumber =  rawData.map(lambda x: x.split(\",\")[6])\n"
   ]
  },
  {
   "cell_type": "code",
   "execution_count": 6,
   "metadata": {},
   "outputs": [],
   "source": [
    "def Entropia (classe):\n",
    "    \"\"\"Calcula a Entropia de Shannon de uma distribuição de dados.\n",
    "\n",
    "    Args:\n",
    "        classe (RDD): RDD contendo conjunto de dados a ser calculado a entropia.\n",
    "                      Valores devem ser categóricos.\n",
    "\n",
    "    Returns:\n",
    "        float: valor de Entropia de Shannon calculado para o RDD.\n",
    "    \"\"\"\n",
    "    #counts calcula paralelamente o conteúdo do RDD\n",
    "    #como tuplas contendo (tipo, quantidade)\n",
    "    counts = (classe.map(lambda x: (x, 1)).reduceByKey(lambda a,b: a + b))\n",
    "    # n recebe o valor total de itens do RDD\n",
    "    n = classe.count()\n",
    "    \n",
    "    # probs calcula a probabilidade de cada um dos estados do RDD\n",
    "    probs = counts.map(lambda x: x[1]/float(n))\n",
    "    \n",
    "    # Entropia calcula a entropia do RDD\n",
    "    ## a função map faz o calculo da Entropia de cada um dos estados\n",
    "    ## a função reduce faz o somatório da entropia de Shannon\n",
    "    entropia = (probs.map(lambda p: -p*math.log(p,2)).reduce(lambda a,b: a + b))\n",
    "    \n",
    "    # retorna valor escalar referênte a entropia do RDD.\n",
    "    return entropia\n",
    "\n",
    " \n",
    "def infoGain (feature, classe, H):\n",
    "    \"\"\"Calcula o ganho de informação de um atributo em relação a uma classe.\n",
    "\n",
    "    Args:\n",
    "        feature (RDD): RDD contendo os conjuntos de dados do atributo a ser\n",
    "                       calculado o Ganho de Informação\n",
    "        \n",
    "        classe (RDD): RDD contendo conjunto de dados da classe\n",
    "        \n",
    "        H (float): Entropia da Classe, previamente calculada.\n",
    "\n",
    "    Returns:\n",
    "        float: valor de ganho de informação (redução da Entropia) que o atributo fornece sobre a classe\n",
    "    \"\"\"\n",
    "    # calcula paralelamente o conteúdo do RDD\n",
    "    # como tuplas contendo (tipo, quantidade)\n",
    "    feat_count = feature.map(lambda x: (x, 1))\\\n",
    "                        .reduceByKey(lambda a,b: a + b)\\\n",
    "                        .collect()\n",
    "    print feat_count\n",
    "    print \"\\n\"\n",
    " \n",
    "    # calcula as Entropias de um conjunto da classe dado cada um dos estados do atributo   \n",
    "    entropiasN = [Entropia(classe.zip(feature).filter(lambda x: x[1]==v).map(lambda x: x[0]))  for v,_ in feat_count]\n",
    "    \n",
    "    # calcula a quantidade de itens no atributo\n",
    "    n = classe.count()\n",
    "        \n",
    "    # calcula o ganho de informação do atributo.\n",
    "    ig = H - sum([(f[1]/float(n))*p for f,p in zip(feat_count, entropiasN)])\n",
    "    \n",
    "    return ig\n",
    "    "
   ]
  },
  {
   "cell_type": "code",
   "execution_count": 7,
   "metadata": {},
   "outputs": [
    {
     "name": "stdout",
     "output_type": "stream",
     "text": [
      "0.115046214978\n",
      "--- 113.213999987 seconds ---\n",
      "numer of partition: 8\n"
     ]
    }
   ],
   "source": [
    "start_time = time.time()\n",
    "H =  Entropia (Cancelled)\n",
    "print H\n",
    "\n",
    "print(\"--- %s seconds ---\" % (time.time() - start_time))\n",
    "print \"numer of partition:\", numPartitions"
   ]
  },
  {
   "cell_type": "code",
   "execution_count": 106,
   "metadata": {
    "scrolled": true
   },
   "outputs": [
    {
     "name": "stdout",
     "output_type": "stream",
     "text": [
      "[(u'9', 464946), (u'11', 467972), (u'3', 504312), (u'5', 496993), (u'7', 520718), (u'10', 486165), (u'12', 479230), (u'1', 469968), (u'8', 510536), (u'4', 485151), (u'6', 503897), (u'2', 429191)]\n",
      "\n",
      "\n",
      "0.00480131432616\n",
      "--- 2258.47500014 seconds ---\n",
      "numer of partition: 8\n"
     ]
    }
   ],
   "source": [
    "start_time = time.time()\n",
    "igMonth = infoGain(featMonth, Cancelled, H)\n",
    "print igMonth\n",
    "print(\"--- %s seconds ---\" % (time.time() - start_time))\n",
    "print \"numer of partition:\", numPartitions"
   ]
  },
  {
   "cell_type": "code",
   "execution_count": 107,
   "metadata": {},
   "outputs": [
    {
     "name": "stdout",
     "output_type": "stream",
     "text": [
      "[(u'11', 190756), (u'22', 192725), (u'3', 190007), (u'5', 189766), (u'7', 187598), (u'9', 194224), (u'10', 189288), (u'23', 193560), (u'13', 195089), (u'12', 190872), (u'1', 189477), (u'15', 192950), (u'14', 188611), (u'28', 191401), (u'17', 191319), (u'29', 179441), (u'16', 195899), (u'19', 193284), (u'18', 191393), (u'8', 193964), (u'4', 190893), (u'6', 191232), (u'24', 185017), (u'31', 103812), (u'25', 187317), (u'30', 178771), (u'26', 187387), (u'27', 191920), (u'2', 195986), (u'20', 195707), (u'21', 189413)]\n",
      "\n",
      "\n",
      "0.00192616646485\n",
      "--- 5671.07599998 seconds ---\n",
      "numer of partition: 8\n"
     ]
    }
   ],
   "source": [
    "start_time = time.time()\n",
    "\n",
    "igDayofMonth = infoGain(featDayofMonth, Cancelled, H)\n",
    "print igDayofMonth\n",
    "print(\"--- %s seconds ---\" % (time.time() - start_time))\n",
    "print \"numer of partition:\", numPartitions"
   ]
  },
  {
   "cell_type": "code",
   "execution_count": 108,
   "metadata": {},
   "outputs": [
    {
     "name": "stdout",
     "output_type": "stream",
     "text": [
      "[(u'3', 855897), (u'5', 862209), (u'7', 817764), (u'1', 865543), (u'4', 872521), (u'6', 700545), (u'2', 844600)]\n",
      "\n",
      "\n",
      "0.000865229592909\n",
      "--- 1307.579 seconds ---\n",
      "numer of partition: 8\n"
     ]
    }
   ],
   "source": [
    "start_time = time.time()\n",
    "igDayofWeek = infoGain(featDayofWeek, Cancelled, H)\n",
    "print igDayofWeek\n",
    "print(\"--- %s seconds ---\" % (time.time() - start_time))\n",
    "print \"numer of partition:\", numPartitions"
   ]
  },
  {
   "cell_type": "code",
   "execution_count": 109,
   "metadata": {},
   "outputs": [
    {
     "name": "stdout",
     "output_type": "stream",
     "text": [
      "[(u'DL', 875881), (u'B6', 267048), (u'AA', 725984), (u'AS', 172521), (u'WN', 1261855), (u'NK', 117379), (u'HA', 76272), (u'UA', 515723), (u'OO', 588353), (u'MQ', 294632), (u'F9', 90836), (u'VX', 61903), (u'US', 198715), (u'EV', 571977)]\n",
      "\n",
      "\n",
      "0.00430920158126\n",
      "--- 2588.42599988 seconds ---\n",
      "numer of partition: 8\n"
     ]
    }
   ],
   "source": [
    "start_time = time.time()\n",
    "igAirline = infoGain(featAirline, Cancelled, H)\n",
    "print igAirline\n",
    "print(\"--- %s seconds ---\" % (time.time() - start_time))\n",
    "print \"numer of partition:\", numPartitions"
   ]
  },
  {
   "cell_type": "code",
   "execution_count": 110,
   "metadata": {
    "collapsed": true
   },
   "outputs": [],
   "source": [
    "beep(10)"
   ]
  },
  {
   "cell_type": "code",
   "execution_count": 8,
   "metadata": {},
   "outputs": [
    {
     "ename": "KeyboardInterrupt",
     "evalue": "",
     "output_type": "error",
     "traceback": [
      "\u001b[0;31m---------------------------------------------------------------------------\u001b[0m",
      "\u001b[0;31mKeyboardInterrupt\u001b[0m                         Traceback (most recent call last)",
      "\u001b[0;32m<ipython-input-8-619ece577d76>\u001b[0m in \u001b[0;36m<module>\u001b[0;34m()\u001b[0m\n\u001b[1;32m      1\u001b[0m \u001b[0mstart_time\u001b[0m \u001b[1;33m=\u001b[0m \u001b[0mtime\u001b[0m\u001b[1;33m.\u001b[0m\u001b[0mtime\u001b[0m\u001b[1;33m(\u001b[0m\u001b[1;33m)\u001b[0m\u001b[1;33m\u001b[0m\u001b[0m\n\u001b[0;32m----> 2\u001b[0;31m \u001b[0migOrigin\u001b[0m \u001b[1;33m=\u001b[0m \u001b[0minfoGain\u001b[0m\u001b[1;33m(\u001b[0m\u001b[0mfeatOrigin\u001b[0m\u001b[1;33m,\u001b[0m \u001b[0mCancelled\u001b[0m\u001b[1;33m,\u001b[0m \u001b[0mH\u001b[0m\u001b[1;33m)\u001b[0m\u001b[1;33m\u001b[0m\u001b[0m\n\u001b[0m\u001b[1;32m      3\u001b[0m \u001b[1;32mprint\u001b[0m \u001b[0migOrigin\u001b[0m\u001b[1;33m\u001b[0m\u001b[0m\n\u001b[1;32m      4\u001b[0m \u001b[1;32mprint\u001b[0m\u001b[1;33m(\u001b[0m\u001b[1;34m\"--- %s seconds ---\"\u001b[0m \u001b[1;33m%\u001b[0m \u001b[1;33m(\u001b[0m\u001b[0mtime\u001b[0m\u001b[1;33m.\u001b[0m\u001b[0mtime\u001b[0m\u001b[1;33m(\u001b[0m\u001b[1;33m)\u001b[0m \u001b[1;33m-\u001b[0m \u001b[0mstart_time\u001b[0m\u001b[1;33m)\u001b[0m\u001b[1;33m)\u001b[0m\u001b[1;33m\u001b[0m\u001b[0m\n",
      "\u001b[0;32m<ipython-input-5-f3f1f9a2a75d>\u001b[0m in \u001b[0;36minfoGain\u001b[0;34m(feature, classe, H)\u001b[0m\n\u001b[1;32m     47\u001b[0m     \u001b[0mfeat_count\u001b[0m \u001b[1;33m=\u001b[0m \u001b[0mfeature\u001b[0m\u001b[1;33m.\u001b[0m\u001b[0mmap\u001b[0m\u001b[1;33m(\u001b[0m\u001b[1;32mlambda\u001b[0m \u001b[0mx\u001b[0m\u001b[1;33m:\u001b[0m \u001b[1;33m(\u001b[0m\u001b[0mx\u001b[0m\u001b[1;33m,\u001b[0m \u001b[1;36m1\u001b[0m\u001b[1;33m)\u001b[0m\u001b[1;33m)\u001b[0m                        \u001b[1;33m.\u001b[0m\u001b[0mreduceByKey\u001b[0m\u001b[1;33m(\u001b[0m\u001b[1;32mlambda\u001b[0m \u001b[0ma\u001b[0m\u001b[1;33m,\u001b[0m\u001b[0mb\u001b[0m\u001b[1;33m:\u001b[0m \u001b[0ma\u001b[0m \u001b[1;33m+\u001b[0m \u001b[0mb\u001b[0m\u001b[1;33m)\u001b[0m                        \u001b[1;33m.\u001b[0m\u001b[0mcollect\u001b[0m\u001b[1;33m(\u001b[0m\u001b[1;33m)\u001b[0m\u001b[1;33m\u001b[0m\u001b[0m\n\u001b[1;32m     48\u001b[0m     \u001b[1;31m# calcula as Entropias de um conjunto da classe dado cada um dos estados do atributo\u001b[0m\u001b[1;33m\u001b[0m\u001b[1;33m\u001b[0m\u001b[0m\n\u001b[0;32m---> 49\u001b[0;31m     \u001b[0mentropiasN\u001b[0m \u001b[1;33m=\u001b[0m \u001b[1;33m[\u001b[0m\u001b[0mEntropia\u001b[0m\u001b[1;33m(\u001b[0m\u001b[0mclasse\u001b[0m\u001b[1;33m.\u001b[0m\u001b[0mzip\u001b[0m\u001b[1;33m(\u001b[0m\u001b[0mfeature\u001b[0m\u001b[1;33m)\u001b[0m\u001b[1;33m.\u001b[0m\u001b[0mfilter\u001b[0m\u001b[1;33m(\u001b[0m\u001b[1;32mlambda\u001b[0m \u001b[0mx\u001b[0m\u001b[1;33m:\u001b[0m \u001b[0mx\u001b[0m\u001b[1;33m[\u001b[0m\u001b[1;36m1\u001b[0m\u001b[1;33m]\u001b[0m\u001b[1;33m==\u001b[0m\u001b[0mv\u001b[0m\u001b[1;33m)\u001b[0m\u001b[1;33m.\u001b[0m\u001b[0mmap\u001b[0m\u001b[1;33m(\u001b[0m\u001b[1;32mlambda\u001b[0m \u001b[0mx\u001b[0m\u001b[1;33m:\u001b[0m \u001b[0mx\u001b[0m\u001b[1;33m[\u001b[0m\u001b[1;36m0\u001b[0m\u001b[1;33m]\u001b[0m\u001b[1;33m)\u001b[0m\u001b[1;33m)\u001b[0m  \u001b[1;32mfor\u001b[0m \u001b[0mv\u001b[0m\u001b[1;33m,\u001b[0m\u001b[0m_\u001b[0m \u001b[1;32min\u001b[0m \u001b[0mfeat_count\u001b[0m\u001b[1;33m]\u001b[0m\u001b[1;33m\u001b[0m\u001b[0m\n\u001b[0m\u001b[1;32m     50\u001b[0m \u001b[1;33m\u001b[0m\u001b[0m\n\u001b[1;32m     51\u001b[0m     \u001b[1;31m# calcula a quantidade de itens no atributo\u001b[0m\u001b[1;33m\u001b[0m\u001b[1;33m\u001b[0m\u001b[0m\n",
      "\u001b[0;32m<ipython-input-5-f3f1f9a2a75d>\u001b[0m in \u001b[0;36mEntropia\u001b[0;34m(classe)\u001b[0m\n\u001b[1;32m     23\u001b[0m     \u001b[1;31m## a função reduce faz o somatório da entropia de Shannon\u001b[0m\u001b[1;33m\u001b[0m\u001b[1;33m\u001b[0m\u001b[0m\n\u001b[1;32m     24\u001b[0m     entropia = (probs.map(lambda p: -p*math.log(p,2))\n\u001b[0;32m---> 25\u001b[0;31m                      .reduce(lambda a,b: a + b))\n\u001b[0m\u001b[1;32m     26\u001b[0m \u001b[1;33m\u001b[0m\u001b[0m\n\u001b[1;32m     27\u001b[0m     \u001b[1;31m# retorna valor escalar referênte a entropia do RDD.\u001b[0m\u001b[1;33m\u001b[0m\u001b[1;33m\u001b[0m\u001b[0m\n",
      "\u001b[0;32mC:\\Users\\sergi\\Anaconda2\\lib\\site-packages\\pyspark\\rdd.pyc\u001b[0m in \u001b[0;36mreduce\u001b[0;34m(self, f)\u001b[0m\n\u001b[1;32m    848\u001b[0m             \u001b[1;32myield\u001b[0m \u001b[0mreduce\u001b[0m\u001b[1;33m(\u001b[0m\u001b[0mf\u001b[0m\u001b[1;33m,\u001b[0m \u001b[0miterator\u001b[0m\u001b[1;33m,\u001b[0m \u001b[0minitial\u001b[0m\u001b[1;33m)\u001b[0m\u001b[1;33m\u001b[0m\u001b[0m\n\u001b[1;32m    849\u001b[0m \u001b[1;33m\u001b[0m\u001b[0m\n\u001b[0;32m--> 850\u001b[0;31m         \u001b[0mvals\u001b[0m \u001b[1;33m=\u001b[0m \u001b[0mself\u001b[0m\u001b[1;33m.\u001b[0m\u001b[0mmapPartitions\u001b[0m\u001b[1;33m(\u001b[0m\u001b[0mfunc\u001b[0m\u001b[1;33m)\u001b[0m\u001b[1;33m.\u001b[0m\u001b[0mcollect\u001b[0m\u001b[1;33m(\u001b[0m\u001b[1;33m)\u001b[0m\u001b[1;33m\u001b[0m\u001b[0m\n\u001b[0m\u001b[1;32m    851\u001b[0m         \u001b[1;32mif\u001b[0m \u001b[0mvals\u001b[0m\u001b[1;33m:\u001b[0m\u001b[1;33m\u001b[0m\u001b[0m\n\u001b[1;32m    852\u001b[0m             \u001b[1;32mreturn\u001b[0m \u001b[0mreduce\u001b[0m\u001b[1;33m(\u001b[0m\u001b[0mf\u001b[0m\u001b[1;33m,\u001b[0m \u001b[0mvals\u001b[0m\u001b[1;33m)\u001b[0m\u001b[1;33m\u001b[0m\u001b[0m\n",
      "\u001b[0;32mC:\\Users\\sergi\\Anaconda2\\lib\\site-packages\\pyspark\\rdd.pyc\u001b[0m in \u001b[0;36mcollect\u001b[0;34m(self)\u001b[0m\n\u001b[1;32m    822\u001b[0m         \"\"\"\n\u001b[1;32m    823\u001b[0m         \u001b[1;32mwith\u001b[0m \u001b[0mSCCallSiteSync\u001b[0m\u001b[1;33m(\u001b[0m\u001b[0mself\u001b[0m\u001b[1;33m.\u001b[0m\u001b[0mcontext\u001b[0m\u001b[1;33m)\u001b[0m \u001b[1;32mas\u001b[0m \u001b[0mcss\u001b[0m\u001b[1;33m:\u001b[0m\u001b[1;33m\u001b[0m\u001b[0m\n\u001b[0;32m--> 824\u001b[0;31m             \u001b[0mport\u001b[0m \u001b[1;33m=\u001b[0m \u001b[0mself\u001b[0m\u001b[1;33m.\u001b[0m\u001b[0mctx\u001b[0m\u001b[1;33m.\u001b[0m\u001b[0m_jvm\u001b[0m\u001b[1;33m.\u001b[0m\u001b[0mPythonRDD\u001b[0m\u001b[1;33m.\u001b[0m\u001b[0mcollectAndServe\u001b[0m\u001b[1;33m(\u001b[0m\u001b[0mself\u001b[0m\u001b[1;33m.\u001b[0m\u001b[0m_jrdd\u001b[0m\u001b[1;33m.\u001b[0m\u001b[0mrdd\u001b[0m\u001b[1;33m(\u001b[0m\u001b[1;33m)\u001b[0m\u001b[1;33m)\u001b[0m\u001b[1;33m\u001b[0m\u001b[0m\n\u001b[0m\u001b[1;32m    825\u001b[0m         \u001b[1;32mreturn\u001b[0m \u001b[0mlist\u001b[0m\u001b[1;33m(\u001b[0m\u001b[0m_load_from_socket\u001b[0m\u001b[1;33m(\u001b[0m\u001b[0mport\u001b[0m\u001b[1;33m,\u001b[0m \u001b[0mself\u001b[0m\u001b[1;33m.\u001b[0m\u001b[0m_jrdd_deserializer\u001b[0m\u001b[1;33m)\u001b[0m\u001b[1;33m)\u001b[0m\u001b[1;33m\u001b[0m\u001b[0m\n\u001b[1;32m    826\u001b[0m \u001b[1;33m\u001b[0m\u001b[0m\n",
      "\u001b[0;32mC:\\Users\\sergi\\Anaconda2\\lib\\site-packages\\py4j\\java_gateway.pyc\u001b[0m in \u001b[0;36m__call__\u001b[0;34m(self, *args)\u001b[0m\n\u001b[1;32m   1156\u001b[0m             \u001b[0mproto\u001b[0m\u001b[1;33m.\u001b[0m\u001b[0mEND_COMMAND_PART\u001b[0m\u001b[1;33m\u001b[0m\u001b[0m\n\u001b[1;32m   1157\u001b[0m \u001b[1;33m\u001b[0m\u001b[0m\n\u001b[0;32m-> 1158\u001b[0;31m         \u001b[0manswer\u001b[0m \u001b[1;33m=\u001b[0m \u001b[0mself\u001b[0m\u001b[1;33m.\u001b[0m\u001b[0mgateway_client\u001b[0m\u001b[1;33m.\u001b[0m\u001b[0msend_command\u001b[0m\u001b[1;33m(\u001b[0m\u001b[0mcommand\u001b[0m\u001b[1;33m)\u001b[0m\u001b[1;33m\u001b[0m\u001b[0m\n\u001b[0m\u001b[1;32m   1159\u001b[0m         return_value = get_return_value(\n\u001b[1;32m   1160\u001b[0m             answer, self.gateway_client, self.target_id, self.name)\n",
      "\u001b[0;32mC:\\Users\\sergi\\Anaconda2\\lib\\site-packages\\py4j\\java_gateway.pyc\u001b[0m in \u001b[0;36msend_command\u001b[0;34m(self, command, retry, binary)\u001b[0m\n\u001b[1;32m    906\u001b[0m         \u001b[0mconnection\u001b[0m \u001b[1;33m=\u001b[0m \u001b[0mself\u001b[0m\u001b[1;33m.\u001b[0m\u001b[0m_get_connection\u001b[0m\u001b[1;33m(\u001b[0m\u001b[1;33m)\u001b[0m\u001b[1;33m\u001b[0m\u001b[0m\n\u001b[1;32m    907\u001b[0m         \u001b[1;32mtry\u001b[0m\u001b[1;33m:\u001b[0m\u001b[1;33m\u001b[0m\u001b[0m\n\u001b[0;32m--> 908\u001b[0;31m             \u001b[0mresponse\u001b[0m \u001b[1;33m=\u001b[0m \u001b[0mconnection\u001b[0m\u001b[1;33m.\u001b[0m\u001b[0msend_command\u001b[0m\u001b[1;33m(\u001b[0m\u001b[0mcommand\u001b[0m\u001b[1;33m)\u001b[0m\u001b[1;33m\u001b[0m\u001b[0m\n\u001b[0m\u001b[1;32m    909\u001b[0m             \u001b[1;32mif\u001b[0m \u001b[0mbinary\u001b[0m\u001b[1;33m:\u001b[0m\u001b[1;33m\u001b[0m\u001b[0m\n\u001b[1;32m    910\u001b[0m                 \u001b[1;32mreturn\u001b[0m \u001b[0mresponse\u001b[0m\u001b[1;33m,\u001b[0m \u001b[0mself\u001b[0m\u001b[1;33m.\u001b[0m\u001b[0m_create_connection_guard\u001b[0m\u001b[1;33m(\u001b[0m\u001b[0mconnection\u001b[0m\u001b[1;33m)\u001b[0m\u001b[1;33m\u001b[0m\u001b[0m\n",
      "\u001b[0;32mC:\\Users\\sergi\\Anaconda2\\lib\\site-packages\\py4j\\java_gateway.pyc\u001b[0m in \u001b[0;36msend_command\u001b[0;34m(self, command)\u001b[0m\n\u001b[1;32m   1053\u001b[0m \u001b[1;33m\u001b[0m\u001b[0m\n\u001b[1;32m   1054\u001b[0m         \u001b[1;32mtry\u001b[0m\u001b[1;33m:\u001b[0m\u001b[1;33m\u001b[0m\u001b[0m\n\u001b[0;32m-> 1055\u001b[0;31m             \u001b[0manswer\u001b[0m \u001b[1;33m=\u001b[0m \u001b[0msmart_decode\u001b[0m\u001b[1;33m(\u001b[0m\u001b[0mself\u001b[0m\u001b[1;33m.\u001b[0m\u001b[0mstream\u001b[0m\u001b[1;33m.\u001b[0m\u001b[0mreadline\u001b[0m\u001b[1;33m(\u001b[0m\u001b[1;33m)\u001b[0m\u001b[1;33m[\u001b[0m\u001b[1;33m:\u001b[0m\u001b[1;33m-\u001b[0m\u001b[1;36m1\u001b[0m\u001b[1;33m]\u001b[0m\u001b[1;33m)\u001b[0m\u001b[1;33m\u001b[0m\u001b[0m\n\u001b[0m\u001b[1;32m   1056\u001b[0m             \u001b[0mlogger\u001b[0m\u001b[1;33m.\u001b[0m\u001b[0mdebug\u001b[0m\u001b[1;33m(\u001b[0m\u001b[1;34m\"Answer received: {0}\"\u001b[0m\u001b[1;33m.\u001b[0m\u001b[0mformat\u001b[0m\u001b[1;33m(\u001b[0m\u001b[0manswer\u001b[0m\u001b[1;33m)\u001b[0m\u001b[1;33m)\u001b[0m\u001b[1;33m\u001b[0m\u001b[0m\n\u001b[1;32m   1057\u001b[0m             \u001b[1;32mif\u001b[0m \u001b[0manswer\u001b[0m\u001b[1;33m.\u001b[0m\u001b[0mstartswith\u001b[0m\u001b[1;33m(\u001b[0m\u001b[0mproto\u001b[0m\u001b[1;33m.\u001b[0m\u001b[0mRETURN_MESSAGE\u001b[0m\u001b[1;33m)\u001b[0m\u001b[1;33m:\u001b[0m\u001b[1;33m\u001b[0m\u001b[0m\n",
      "\u001b[0;32mC:\\Users\\sergi\\Anaconda2\\lib\\socket.pyc\u001b[0m in \u001b[0;36mreadline\u001b[0;34m(self, size)\u001b[0m\n\u001b[1;32m    449\u001b[0m             \u001b[1;32mwhile\u001b[0m \u001b[0mTrue\u001b[0m\u001b[1;33m:\u001b[0m\u001b[1;33m\u001b[0m\u001b[0m\n\u001b[1;32m    450\u001b[0m                 \u001b[1;32mtry\u001b[0m\u001b[1;33m:\u001b[0m\u001b[1;33m\u001b[0m\u001b[0m\n\u001b[0;32m--> 451\u001b[0;31m                     \u001b[0mdata\u001b[0m \u001b[1;33m=\u001b[0m \u001b[0mself\u001b[0m\u001b[1;33m.\u001b[0m\u001b[0m_sock\u001b[0m\u001b[1;33m.\u001b[0m\u001b[0mrecv\u001b[0m\u001b[1;33m(\u001b[0m\u001b[0mself\u001b[0m\u001b[1;33m.\u001b[0m\u001b[0m_rbufsize\u001b[0m\u001b[1;33m)\u001b[0m\u001b[1;33m\u001b[0m\u001b[0m\n\u001b[0m\u001b[1;32m    452\u001b[0m                 \u001b[1;32mexcept\u001b[0m \u001b[0merror\u001b[0m\u001b[1;33m,\u001b[0m \u001b[0me\u001b[0m\u001b[1;33m:\u001b[0m\u001b[1;33m\u001b[0m\u001b[0m\n\u001b[1;32m    453\u001b[0m                     \u001b[1;32mif\u001b[0m \u001b[0me\u001b[0m\u001b[1;33m.\u001b[0m\u001b[0margs\u001b[0m\u001b[1;33m[\u001b[0m\u001b[1;36m0\u001b[0m\u001b[1;33m]\u001b[0m \u001b[1;33m==\u001b[0m \u001b[0mEINTR\u001b[0m\u001b[1;33m:\u001b[0m\u001b[1;33m\u001b[0m\u001b[0m\n",
      "\u001b[0;31mKeyboardInterrupt\u001b[0m: "
     ]
    }
   ],
   "source": [
    "start_time = time.time()\n",
    "igOrigin = infoGain(featOrigin, Cancelled, H)\n",
    "print igOrigin\n",
    "print(\"--- %s seconds ---\" % (time.time() - start_time))\n",
    "print \"numer of partition:\", numPartitions"
   ]
  },
  {
   "cell_type": "code",
   "execution_count": 111,
   "metadata": {},
   "outputs": [
    {
     "ename": "KeyboardInterrupt",
     "evalue": "",
     "output_type": "error",
     "traceback": [
      "\u001b[0;31m---------------------------------------------------------------------------\u001b[0m",
      "\u001b[0;31mKeyboardInterrupt\u001b[0m                         Traceback (most recent call last)",
      "\u001b[0;32m<ipython-input-111-7c411e07fc2d>\u001b[0m in \u001b[0;36m<module>\u001b[0;34m()\u001b[0m\n\u001b[1;32m      1\u001b[0m \u001b[0mstart_time\u001b[0m \u001b[1;33m=\u001b[0m \u001b[0mtime\u001b[0m\u001b[1;33m.\u001b[0m\u001b[0mtime\u001b[0m\u001b[1;33m(\u001b[0m\u001b[1;33m)\u001b[0m\u001b[1;33m\u001b[0m\u001b[0m\n\u001b[0;32m----> 2\u001b[0;31m \u001b[0migDest\u001b[0m \u001b[1;33m=\u001b[0m \u001b[0minfoGain\u001b[0m\u001b[1;33m(\u001b[0m\u001b[0mfeatDest\u001b[0m\u001b[1;33m,\u001b[0m \u001b[0mCancelled\u001b[0m\u001b[1;33m,\u001b[0m \u001b[0mH\u001b[0m\u001b[1;33m)\u001b[0m\u001b[1;33m\u001b[0m\u001b[0m\n\u001b[0m\u001b[1;32m      3\u001b[0m \u001b[1;32mprint\u001b[0m \u001b[0migDest\u001b[0m\u001b[1;33m\u001b[0m\u001b[0m\n\u001b[1;32m      4\u001b[0m \u001b[1;32mprint\u001b[0m\u001b[1;33m(\u001b[0m\u001b[1;34m\"--- %s seconds ---\"\u001b[0m \u001b[1;33m%\u001b[0m \u001b[1;33m(\u001b[0m\u001b[0mtime\u001b[0m\u001b[1;33m.\u001b[0m\u001b[0mtime\u001b[0m\u001b[1;33m(\u001b[0m\u001b[1;33m)\u001b[0m \u001b[1;33m-\u001b[0m \u001b[0mstart_time\u001b[0m\u001b[1;33m)\u001b[0m\u001b[1;33m)\u001b[0m\u001b[1;33m\u001b[0m\u001b[0m\n\u001b[1;32m      5\u001b[0m \u001b[1;32mprint\u001b[0m \u001b[1;34m\"numer of partition:\"\u001b[0m\u001b[1;33m,\u001b[0m \u001b[0mnumPartitions\u001b[0m\u001b[1;33m\u001b[0m\u001b[0m\n",
      "\u001b[0;32m<ipython-input-104-db60987da738>\u001b[0m in \u001b[0;36minfoGain\u001b[0;34m(feature, classe, H)\u001b[0m\n\u001b[1;32m     45\u001b[0m     \u001b[1;31m# calcula paralelamente o conteúdo do RDD\u001b[0m\u001b[1;33m\u001b[0m\u001b[1;33m\u001b[0m\u001b[0m\n\u001b[1;32m     46\u001b[0m     \u001b[1;31m# como tuplas contendo (tipo, quantidade)\u001b[0m\u001b[1;33m\u001b[0m\u001b[1;33m\u001b[0m\u001b[0m\n\u001b[0;32m---> 47\u001b[0;31m     \u001b[0mfeat_count\u001b[0m \u001b[1;33m=\u001b[0m \u001b[0mfeature\u001b[0m\u001b[1;33m.\u001b[0m\u001b[0mmap\u001b[0m\u001b[1;33m(\u001b[0m\u001b[1;32mlambda\u001b[0m \u001b[0mx\u001b[0m\u001b[1;33m:\u001b[0m \u001b[1;33m(\u001b[0m\u001b[0mx\u001b[0m\u001b[1;33m,\u001b[0m \u001b[1;36m1\u001b[0m\u001b[1;33m)\u001b[0m\u001b[1;33m)\u001b[0m                        \u001b[1;33m.\u001b[0m\u001b[0mreduceByKey\u001b[0m\u001b[1;33m(\u001b[0m\u001b[1;32mlambda\u001b[0m \u001b[0ma\u001b[0m\u001b[1;33m,\u001b[0m\u001b[0mb\u001b[0m\u001b[1;33m:\u001b[0m \u001b[0ma\u001b[0m \u001b[1;33m+\u001b[0m \u001b[0mb\u001b[0m\u001b[1;33m)\u001b[0m                        \u001b[1;33m.\u001b[0m\u001b[0mcollect\u001b[0m\u001b[1;33m(\u001b[0m\u001b[1;33m)\u001b[0m\u001b[1;33m\u001b[0m\u001b[0m\n\u001b[0m\u001b[1;32m     48\u001b[0m     \u001b[1;32mprint\u001b[0m \u001b[0mfeat_count\u001b[0m\u001b[1;33m\u001b[0m\u001b[0m\n\u001b[1;32m     49\u001b[0m     \u001b[1;32mprint\u001b[0m \u001b[1;34m\"\\n\"\u001b[0m\u001b[1;33m\u001b[0m\u001b[0m\n",
      "\u001b[0;32mC:\\Users\\sergi\\Anaconda2\\lib\\site-packages\\pyspark\\rdd.pyc\u001b[0m in \u001b[0;36mcollect\u001b[0;34m(self)\u001b[0m\n\u001b[1;32m    822\u001b[0m         \"\"\"\n\u001b[1;32m    823\u001b[0m         \u001b[1;32mwith\u001b[0m \u001b[0mSCCallSiteSync\u001b[0m\u001b[1;33m(\u001b[0m\u001b[0mself\u001b[0m\u001b[1;33m.\u001b[0m\u001b[0mcontext\u001b[0m\u001b[1;33m)\u001b[0m \u001b[1;32mas\u001b[0m \u001b[0mcss\u001b[0m\u001b[1;33m:\u001b[0m\u001b[1;33m\u001b[0m\u001b[0m\n\u001b[0;32m--> 824\u001b[0;31m             \u001b[0mport\u001b[0m \u001b[1;33m=\u001b[0m \u001b[0mself\u001b[0m\u001b[1;33m.\u001b[0m\u001b[0mctx\u001b[0m\u001b[1;33m.\u001b[0m\u001b[0m_jvm\u001b[0m\u001b[1;33m.\u001b[0m\u001b[0mPythonRDD\u001b[0m\u001b[1;33m.\u001b[0m\u001b[0mcollectAndServe\u001b[0m\u001b[1;33m(\u001b[0m\u001b[0mself\u001b[0m\u001b[1;33m.\u001b[0m\u001b[0m_jrdd\u001b[0m\u001b[1;33m.\u001b[0m\u001b[0mrdd\u001b[0m\u001b[1;33m(\u001b[0m\u001b[1;33m)\u001b[0m\u001b[1;33m)\u001b[0m\u001b[1;33m\u001b[0m\u001b[0m\n\u001b[0m\u001b[1;32m    825\u001b[0m         \u001b[1;32mreturn\u001b[0m \u001b[0mlist\u001b[0m\u001b[1;33m(\u001b[0m\u001b[0m_load_from_socket\u001b[0m\u001b[1;33m(\u001b[0m\u001b[0mport\u001b[0m\u001b[1;33m,\u001b[0m \u001b[0mself\u001b[0m\u001b[1;33m.\u001b[0m\u001b[0m_jrdd_deserializer\u001b[0m\u001b[1;33m)\u001b[0m\u001b[1;33m)\u001b[0m\u001b[1;33m\u001b[0m\u001b[0m\n\u001b[1;32m    826\u001b[0m \u001b[1;33m\u001b[0m\u001b[0m\n",
      "\u001b[0;32mC:\\Users\\sergi\\Anaconda2\\lib\\site-packages\\py4j\\java_gateway.pyc\u001b[0m in \u001b[0;36m__call__\u001b[0;34m(self, *args)\u001b[0m\n\u001b[1;32m   1156\u001b[0m             \u001b[0mproto\u001b[0m\u001b[1;33m.\u001b[0m\u001b[0mEND_COMMAND_PART\u001b[0m\u001b[1;33m\u001b[0m\u001b[0m\n\u001b[1;32m   1157\u001b[0m \u001b[1;33m\u001b[0m\u001b[0m\n\u001b[0;32m-> 1158\u001b[0;31m         \u001b[0manswer\u001b[0m \u001b[1;33m=\u001b[0m \u001b[0mself\u001b[0m\u001b[1;33m.\u001b[0m\u001b[0mgateway_client\u001b[0m\u001b[1;33m.\u001b[0m\u001b[0msend_command\u001b[0m\u001b[1;33m(\u001b[0m\u001b[0mcommand\u001b[0m\u001b[1;33m)\u001b[0m\u001b[1;33m\u001b[0m\u001b[0m\n\u001b[0m\u001b[1;32m   1159\u001b[0m         return_value = get_return_value(\n\u001b[1;32m   1160\u001b[0m             answer, self.gateway_client, self.target_id, self.name)\n",
      "\u001b[0;32mC:\\Users\\sergi\\Anaconda2\\lib\\site-packages\\py4j\\java_gateway.pyc\u001b[0m in \u001b[0;36msend_command\u001b[0;34m(self, command, retry, binary)\u001b[0m\n\u001b[1;32m    906\u001b[0m         \u001b[0mconnection\u001b[0m \u001b[1;33m=\u001b[0m \u001b[0mself\u001b[0m\u001b[1;33m.\u001b[0m\u001b[0m_get_connection\u001b[0m\u001b[1;33m(\u001b[0m\u001b[1;33m)\u001b[0m\u001b[1;33m\u001b[0m\u001b[0m\n\u001b[1;32m    907\u001b[0m         \u001b[1;32mtry\u001b[0m\u001b[1;33m:\u001b[0m\u001b[1;33m\u001b[0m\u001b[0m\n\u001b[0;32m--> 908\u001b[0;31m             \u001b[0mresponse\u001b[0m \u001b[1;33m=\u001b[0m \u001b[0mconnection\u001b[0m\u001b[1;33m.\u001b[0m\u001b[0msend_command\u001b[0m\u001b[1;33m(\u001b[0m\u001b[0mcommand\u001b[0m\u001b[1;33m)\u001b[0m\u001b[1;33m\u001b[0m\u001b[0m\n\u001b[0m\u001b[1;32m    909\u001b[0m             \u001b[1;32mif\u001b[0m \u001b[0mbinary\u001b[0m\u001b[1;33m:\u001b[0m\u001b[1;33m\u001b[0m\u001b[0m\n\u001b[1;32m    910\u001b[0m                 \u001b[1;32mreturn\u001b[0m \u001b[0mresponse\u001b[0m\u001b[1;33m,\u001b[0m \u001b[0mself\u001b[0m\u001b[1;33m.\u001b[0m\u001b[0m_create_connection_guard\u001b[0m\u001b[1;33m(\u001b[0m\u001b[0mconnection\u001b[0m\u001b[1;33m)\u001b[0m\u001b[1;33m\u001b[0m\u001b[0m\n",
      "\u001b[0;32mC:\\Users\\sergi\\Anaconda2\\lib\\site-packages\\py4j\\java_gateway.pyc\u001b[0m in \u001b[0;36msend_command\u001b[0;34m(self, command)\u001b[0m\n\u001b[1;32m   1053\u001b[0m \u001b[1;33m\u001b[0m\u001b[0m\n\u001b[1;32m   1054\u001b[0m         \u001b[1;32mtry\u001b[0m\u001b[1;33m:\u001b[0m\u001b[1;33m\u001b[0m\u001b[0m\n\u001b[0;32m-> 1055\u001b[0;31m             \u001b[0manswer\u001b[0m \u001b[1;33m=\u001b[0m \u001b[0msmart_decode\u001b[0m\u001b[1;33m(\u001b[0m\u001b[0mself\u001b[0m\u001b[1;33m.\u001b[0m\u001b[0mstream\u001b[0m\u001b[1;33m.\u001b[0m\u001b[0mreadline\u001b[0m\u001b[1;33m(\u001b[0m\u001b[1;33m)\u001b[0m\u001b[1;33m[\u001b[0m\u001b[1;33m:\u001b[0m\u001b[1;33m-\u001b[0m\u001b[1;36m1\u001b[0m\u001b[1;33m]\u001b[0m\u001b[1;33m)\u001b[0m\u001b[1;33m\u001b[0m\u001b[0m\n\u001b[0m\u001b[1;32m   1056\u001b[0m             \u001b[0mlogger\u001b[0m\u001b[1;33m.\u001b[0m\u001b[0mdebug\u001b[0m\u001b[1;33m(\u001b[0m\u001b[1;34m\"Answer received: {0}\"\u001b[0m\u001b[1;33m.\u001b[0m\u001b[0mformat\u001b[0m\u001b[1;33m(\u001b[0m\u001b[0manswer\u001b[0m\u001b[1;33m)\u001b[0m\u001b[1;33m)\u001b[0m\u001b[1;33m\u001b[0m\u001b[0m\n\u001b[1;32m   1057\u001b[0m             \u001b[1;32mif\u001b[0m \u001b[0manswer\u001b[0m\u001b[1;33m.\u001b[0m\u001b[0mstartswith\u001b[0m\u001b[1;33m(\u001b[0m\u001b[0mproto\u001b[0m\u001b[1;33m.\u001b[0m\u001b[0mRETURN_MESSAGE\u001b[0m\u001b[1;33m)\u001b[0m\u001b[1;33m:\u001b[0m\u001b[1;33m\u001b[0m\u001b[0m\n",
      "\u001b[0;32mC:\\Users\\sergi\\Anaconda2\\lib\\socket.pyc\u001b[0m in \u001b[0;36mreadline\u001b[0;34m(self, size)\u001b[0m\n\u001b[1;32m    449\u001b[0m             \u001b[1;32mwhile\u001b[0m \u001b[0mTrue\u001b[0m\u001b[1;33m:\u001b[0m\u001b[1;33m\u001b[0m\u001b[0m\n\u001b[1;32m    450\u001b[0m                 \u001b[1;32mtry\u001b[0m\u001b[1;33m:\u001b[0m\u001b[1;33m\u001b[0m\u001b[0m\n\u001b[0;32m--> 451\u001b[0;31m                     \u001b[0mdata\u001b[0m \u001b[1;33m=\u001b[0m \u001b[0mself\u001b[0m\u001b[1;33m.\u001b[0m\u001b[0m_sock\u001b[0m\u001b[1;33m.\u001b[0m\u001b[0mrecv\u001b[0m\u001b[1;33m(\u001b[0m\u001b[0mself\u001b[0m\u001b[1;33m.\u001b[0m\u001b[0m_rbufsize\u001b[0m\u001b[1;33m)\u001b[0m\u001b[1;33m\u001b[0m\u001b[0m\n\u001b[0m\u001b[1;32m    452\u001b[0m                 \u001b[1;32mexcept\u001b[0m \u001b[0merror\u001b[0m\u001b[1;33m,\u001b[0m \u001b[0me\u001b[0m\u001b[1;33m:\u001b[0m\u001b[1;33m\u001b[0m\u001b[0m\n\u001b[1;32m    453\u001b[0m                     \u001b[1;32mif\u001b[0m \u001b[0me\u001b[0m\u001b[1;33m.\u001b[0m\u001b[0margs\u001b[0m\u001b[1;33m[\u001b[0m\u001b[1;36m0\u001b[0m\u001b[1;33m]\u001b[0m \u001b[1;33m==\u001b[0m \u001b[0mEINTR\u001b[0m\u001b[1;33m:\u001b[0m\u001b[1;33m\u001b[0m\u001b[0m\n",
      "\u001b[0;31mKeyboardInterrupt\u001b[0m: "
     ]
    }
   ],
   "source": [
    "start_time = time.time()\n",
    "igDest = infoGain(featDest, Cancelled, H)\n",
    "print igDest\n",
    "print(\"--- %s seconds ---\" % (time.time() - start_time))\n",
    "print \"numer of partition:\", numPartitions"
   ]
  },
  {
   "cell_type": "code",
   "execution_count": 11,
   "metadata": {
    "collapsed": true
   },
   "outputs": [],
   "source": [
    "# carregar base de dados\n",
    "import os.path\n",
    "fileName = os.path.join('C:\\spark\\Data', 'flights2015.csv')\n",
    "numPartitions = 1\n",
    "rawData = sc.textFile(fileName, numPartitions)\n"
   ]
  },
  {
   "cell_type": "code",
   "execution_count": 12,
   "metadata": {
    "collapsed": true
   },
   "outputs": [],
   "source": [
    "Cancelled = rawData.map(lambda x: x.split(\",\")[24])\n",
    "featMonth = rawData.map(lambda x: x.split(\",\")[1])\n",
    "featDayofMonth = rawData.map(lambda x: x.split(\",\")[2])\n",
    "featDayofWeek = rawData.map(lambda x: x.split(\",\")[3])\n",
    "featAirline =  rawData.map(lambda x: x.split(\",\")[4])\n",
    "\n",
    "featOrigin =  rawData.map(lambda x: x.split(\",\")[7])\n",
    "featDest =  rawData.map(lambda x: x.split(\",\")[8])\n",
    "featTailNumber =  rawData.map(lambda x: x.split(\",\")[6])\n"
   ]
  },
  {
   "cell_type": "code",
   "execution_count": 13,
   "metadata": {},
   "outputs": [
    {
     "name": "stdout",
     "output_type": "stream",
     "text": [
      "[(u'9', 464946), (u'11', 467972), (u'3', 504312), (u'5', 496993), (u'7', 520718), (u'10', 486165), (u'12', 479230), (u'1', 469968), (u'8', 510536), (u'4', 485151), (u'6', 503897), (u'2', 429191)]\n",
      "\n",
      "\n",
      "0.00480131432616\n",
      "--- 2187.72099996 seconds ---\n",
      "numer of partition: 1\n"
     ]
    }
   ],
   "source": [
    "start_time = time.time()\n",
    "igMonth = infoGain(featMonth, Cancelled, H)\n",
    "print igMonth\n",
    "print(\"--- %s seconds ---\" % (time.time() - start_time))\n",
    "print \"numer of partition:\", numPartitions"
   ]
  },
  {
   "cell_type": "code",
   "execution_count": 14,
   "metadata": {},
   "outputs": [
    {
     "name": "stdout",
     "output_type": "stream",
     "text": [
      "[(u'11', 190756), (u'22', 192725), (u'3', 190007), (u'5', 189766), (u'7', 187598), (u'9', 194224), (u'10', 189288), (u'23', 193560), (u'13', 195089), (u'12', 190872), (u'1', 189477), (u'15', 192950), (u'14', 188611), (u'28', 191401), (u'17', 191319), (u'29', 179441), (u'16', 195899), (u'19', 193284), (u'18', 191393), (u'8', 193964), (u'4', 190893), (u'6', 191232), (u'24', 185017), (u'31', 103812), (u'25', 187317), (u'30', 178771), (u'26', 187387), (u'27', 191920), (u'2', 195986), (u'20', 195707), (u'21', 189413)]\n",
      "\n",
      "\n",
      "0.00192616646485\n",
      "--- 5459.20799994 seconds ---\n",
      "numer of partition: 1\n"
     ]
    }
   ],
   "source": [
    "start_time = time.time()\n",
    "\n",
    "igDayofMonth = infoGain(featDayofMonth, Cancelled, H)\n",
    "print igDayofMonth\n",
    "print(\"--- %s seconds ---\" % (time.time() - start_time))\n",
    "print \"numer of partition:\", numPartitions"
   ]
  },
  {
   "cell_type": "code",
   "execution_count": 15,
   "metadata": {},
   "outputs": [
    {
     "name": "stdout",
     "output_type": "stream",
     "text": [
      "[(u'3', 855897), (u'5', 862209), (u'7', 817764), (u'1', 865543), (u'4', 872521), (u'6', 700545), (u'2', 844600)]\n",
      "\n",
      "\n",
      "0.000865229592909\n",
      "--- 1275.79400015 seconds ---\n",
      "numer of partition: 1\n"
     ]
    }
   ],
   "source": [
    "start_time = time.time()\n",
    "igDayofWeek = infoGain(featDayofWeek, Cancelled, H)\n",
    "print igDayofWeek\n",
    "print(\"--- %s seconds ---\" % (time.time() - start_time))\n",
    "print \"numer of partition:\", numPartitions"
   ]
  },
  {
   "cell_type": "code",
   "execution_count": 16,
   "metadata": {},
   "outputs": [
    {
     "name": "stdout",
     "output_type": "stream",
     "text": [
      "[(u'DL', 875881), (u'B6', 267048), (u'AA', 725984), (u'AS', 172521), (u'WN', 1261855), (u'NK', 117379), (u'HA', 76272), (u'UA', 515723), (u'OO', 588353), (u'MQ', 294632), (u'F9', 90836), (u'VX', 61903), (u'US', 198715), (u'EV', 571977)]\n",
      "\n",
      "\n",
      "0.00430920158126\n",
      "--- 2516.27799988 seconds ---\n",
      "numer of partition: 1\n"
     ]
    }
   ],
   "source": [
    "start_time = time.time()\n",
    "igAirline = infoGain(featAirline, Cancelled, H)\n",
    "print igAirline\n",
    "print(\"--- %s seconds ---\" % (time.time() - start_time))\n",
    "print \"numer of partition:\", numPartitions"
   ]
  },
  {
   "cell_type": "code",
   "execution_count": 17,
   "metadata": {
    "collapsed": true
   },
   "outputs": [],
   "source": [
    "beep(10)"
   ]
  },
  {
   "cell_type": "code",
   "execution_count": null,
   "metadata": {
    "collapsed": true
   },
   "outputs": [],
   "source": []
  },
  {
   "cell_type": "code",
   "execution_count": 18,
   "metadata": {},
   "outputs": [
    {
     "name": "stdout",
     "output_type": "stream",
     "text": [
      "[(u'10141', 71), (u'COS', 6881), (u'TWF', 815), (u'SGU', 1777), (u'14457', 236), (u'14307', 1098), (u'DRO', 2068), (u'11982', 371), (u'14952', 150), (u'DTW', 108500), (u'12402', 503), (u'11267', 753), (u'11603', 328), (u'11630', 177), (u'MDT', 3285), (u'10529', 1714), (u'MTJ', 1001), (u'10561', 183), (u'11111', 123), (u'MCO', 110982), (u'11274', 87), (u'12451', 1712), (u'OME', 663), (u'LGB', 8777), (u'10754', 81), (u'PUB', 264), (u'DAL', 59699), (u'OKC', 16144), (u'10631', 62), (u'12206', 287), (u'10800', 1768), (u'11618', 9622), (u'13541', 11), (u'10140', 1816), (u'15376', 1311), (u'SUN', 956), (u'ISP', 4392), (u'15389', 87), (u'14711', 62), (u'14487', 62), (u'12982', 881), (u'CMX', 668), (u'10577', 62), (u'12278', 698), (u'13873', 62), (u'12016', 31), (u'11503', 4), (u'SPI', 1587), (u'ACV', 1320), (u'12173', 3780), (u'13127', 53), (u'SGF', 6236), (u'14674', 93), (u'14027', 1742), (u'12953', 8590), (u'ABI', 2329), (u'BQK', 878), (u'CHO', 2204), (u'RDD', 727), (u'IMT', 620), (u'11057', 9572), (u'14869', 8763), (u'CDC', 573), (u'PHF', 1263), (u'MOT', 1850), (u'HLN', 1435), (u'11433', 9925), (u'COD', 665), (u'GUC', 497), (u'MKG', 667), (u'10299', 1234), (u'CMI', 2116), (u'14107', 12921), (u'14570', 1144), (u'10158', 248), (u'10990', 237), (u'13344', 62), (u'COU', 1308), (u'11980', 57), (u'12819', 186), (u'GSO', 6737), (u'10185', 282), (u'BIL', 2866), (u'13964', 36), (u'15304', 5143), (u'11076', 62), (u'12448', 654), (u'13241', 84), (u'HSV', 4519), (u'10792', 1593), (u'11447', 49), (u'12884', 222), (u'TVC', 2756), (u'RDU', 31896), (u'GCC', 997), (u'GTF', 1966), (u'10170', 31), (u'14905', 62), (u'EUG', 3632), (u'12217', 390), (u'11977', 489), (u'14842', 149), (u'STT', 4348), (u'13232', 7617), (u'11953', 234), (u'10785', 348), (u'12343', 53), (u'OTH', 275), (u'12389', 221), (u'JNU', 4094), (u'AVP', 1359), (u'OTZ', 663), (u'TUL', 13970), (u'BTM', 667), (u'13256', 238), (u'15048', 57), (u'CMH', 24187), (u'15624', 415), (u'BGM', 262), (u'13303', 5958), (u'ATW', 2848), (u'11097', 31), (u'ACT', 1612), (u'10434', 113), (u'ROA', 2282), (u'SIT', 1342), (u'14698', 250), (u'11013', 57), (u'LBB', 4637), (u'ECP', 4169), (u'DAY', 8676), (u'MBS', 1721), (u'MHK', 1634), (u'14025', 13), (u'11624', 151), (u'10739', 53), (u'14843', 1868), (u'14254', 62), (u'SRQ', 3370), (u'11259', 5930), (u'TLH', 3194), (u'ALO', 617), (u'14685', 661), (u'BTR', 7166), (u'10849', 335), (u'LGA', 99605), (u'SYR', 5608), (u'14193', 478), (u'LAW', 1331), (u'CRP', 4888), (u'FSD', 5331), (u'14794', 203), (u'MKE', 29825), (u'XNA', 9283), (u'11986', 928), (u'BET', 896), (u'CEC', 190), (u'FAR', 5693), (u'MFR', 2476), (u'LBE', 1281), (u'14709', 81), (u'10747', 204), (u'14222', 9), (u'JAX', 18038), (u'14109', 53), (u'CSG', 1068), (u'10620', 264), (u'PBG', 281), (u'GRB', 4881), (u'CWA', 1420), (u'13296', 577), (u'11140', 366), (u'11775', 445), (u'PNS', 6534), (u'13476', 241), (u'BJI', 667), (u'11898', 90), (u'13230', 285), (u'12266', 13211), (u'13970', 62), (u'12898', 117), (u'UST', 155), (u'12191', 4718), (u'SUX', 620), (u'LSE', 1645), (u'SAN', 70207), (u'RKS', 690), (u'PIA', 4664), (u'ROC', 7448), (u'12391', 366), (u'11109', 610), (u'12339', 2373), (u'11721', 413), (u'CHA', 4202), (u'MLI', 3777), (u'ADQ', 460), (u'14108', 476), (u'DLH', 1719), (u'CHS', 11817), (u'15295', 88), (u'14683', 2624), (u'ITO', 5723), (u'13198', 3555), (u'12519', 75), (u'13459', 26), (u'11697', 5812), (u'11617', 55), (u'14256', 62), (u'11193', 1919), (u'ACK', 492), (u'YUM', 1877), (u'13360', 116), (u'ACY', 3572), (u'FLG', 1660), (u'12255', 53), (u'TXK', 978), (u'PIB', 573), (u'14831', 3481), (u'HIB', 898), (u'10257', 734), (u'11641', 150), (u'PIT', 24118), (u'GRR', 10845), (u'15841', 62), (u'SJT', 1628), (u'KTN', 2319), (u'12280', 201), (u'15070', 62), (u'11337', 223), (u'GPT', 3605), (u'MHT', 6292), (u'14747', 10388), (u'13076', 166), (u'MCI', 38665), (u'MEM', 14770), (u'15401', 88), (u'AVL', 2745), (u'BRW', 855), (u'12264', 2996), (u'14574', 223), (u'SBN', 4454), (u'14730', 843), (u'LAR', 581), (u'ILG', 100), (u'BMI', 2730), (u'CRW', 2385), (u'SMX', 664), (u'14113', 57), (u'MSP', 112117), (u'16218', 177), (u'BZN', 3604), (u'SMF', 37212), (u'10146', 87), (u'15024', 237), (u'PHX', 146815), (u'13244', 1520), (u'ROW', 974), (u'IAH', 146622), (u'12265', 22), (u'CNY', 206), (u'14520', 88), (u'11042', 3224), (u'10397', 32588), (u'SJU', 24656), (u'SLC', 97210), (u'JLN', 666), (u'ANC', 16005), (u'13495', 3663), (u'11695', 158), (u'14814', 556), (u'MAF', 7527), (u'BRD', 589), (u'LAS', 133181), (u'13830', 1823), (u'14576', 737), (u'11252', 119), (u'GJT', 3179), (u'LIH', 10545), (u'MSO', 2077), (u'BGR', 366), (u'TOL', 962), (u'CPR', 1774), (u'12323', 215), (u'RHI', 954), (u'VPS', 4868), (u'12129', 84), (u'15027', 68), (u'SEA', 110899), (u'11612', 399), (u'12156', 141), (u'CLL', 2311), (u'10732', 96), (u'11122', 138), (u'RDM', 2152), (u'RNO', 13011), (u'14893', 3618), (u'12992', 1048), (u'INL', 574), (u'APN', 573), (u'TYR', 2300), (u'RST', 2054), (u'LCH', 1860), (u'GSP', 6542), (u'13851', 1641), (u'14908', 3542), (u'BOS', 107847), (u'SWF', 695), (u'MSN', 9135), (u'AKN', 63), (u'10135', 239), (u'13422', 437), (u'IDA', 2247), (u'13204', 9047), (u'MFE', 3411), (u'13277', 309), (u'MYR', 4831), (u'DCA', 73794), (u'14252', 210), (u'TTN', 2830), (u'BWI', 86079), (u'10333', 53), (u'14960', 122), (u'15411', 227), (u'MRY', 2974), (u'MVY', 205), (u'ABQ', 19192), (u'DSM', 8385), (u'10728', 87), (u'12335', 58), (u'10423', 4021), (u'ADK', 96), (u'15356', 277), (u'12007', 88), (u'12478', 8303), (u'10980', 417), (u'GFK', 717), (u'MMH', 156), (u'10713', 1160), (u'JAC', 3511), (u'TYS', 6963), (u'15380', 208), (u'13795', 112), (u'MEI', 907), (u'10136', 201), (u'10279', 307), (u'14633', 185), (u'11481', 376), (u'13502', 6), (u'13931', 914), (u'EVV', 3834), (u'PPG', 107), (u'SCE', 911), (u'10868', 434), (u'FAT', 7018), (u'15412', 629), (u'LNK', 2636), (u'11638', 656), (u'14262', 673), (u'EAU', 668), (u'10918', 53), (u'TRI', 1928), (u'14828', 93), (u'GCK', 663), (u'ABR', 671), (u'EYW', 1973), (u'EGE', 1241), (u'11423', 710), (u'ITH', 34), (u'15991', 62), (u'13577', 507), (u'11537', 195), (u'MGM', 3171), (u'11298', 21044), (u'11865', 88), (u'DBQ', 928), (u'PSP', 8987), (u'DVL', 525), (u'14122', 2131), (u'LWS', 588), (u'12896', 436), (u'HNL', 43172), (u'10731', 85), (u'11525', 53), (u'BIS', 3453), (u'ISN', 2542), (u'HDN', 703), (u'13930', 27652), (u'12197', 721), (u'14696', 415), (u'11150', 112), (u'14986', 305), (u'ELM', 2051), (u'VLD', 935), (u'FCA', 2025), (u'MQT', 304), (u'BDL', 18799), (u'14098', 114), (u'SAV', 7542), (u'10627', 339), (u'10874', 491), (u'STC', 83), (u'IAD', 34305), (u'14489', 200), (u'12915', 198), (u'HOU', 52042), (u'10469', 121), (u'14524', 1647), (u'PSC', 2433), (u'TUS', 15117), (u'RIC', 15355), (u'11778', 180), (u'10926', 62), (u'10821', 8022), (u'MOB', 5018), (u'RSW', 27350), (u'EKO', 531), (u'12954', 774), (u'WYS', 208), (u'MIA', 69341), (u'10165', 9), (u'OAK', 42316), (u'11823', 511), (u'LIT', 10422), (u'11203', 145), (u'AGS', 2361), (u'11315', 61), (u'CAE', 5151), (u'15041', 62), (u'12523', 336), (u'BUR', 18889), (u'14057', 4550), (u'10408', 260), (u'13933', 62), (u'13029', 288), (u'13485', 838), (u'MLB', 1332), (u'ORH', 663), (u'STL', 46963), (u'12891', 124), (u'IAG', 322), (u'14783', 531), (u'14006', 62), (u'BLI', 711), (u'11577', 57), (u'ELP', 11972), (u'11278', 6819), (u'10208', 223), (u'11308', 118), (u'11067', 206), (u'CDV', 662), (u'11867', 62), (u'OGG', 20627), (u'11995', 598), (u'HYA', 83), (u'FNT', 4746), (u'GST', 77), (u'13796', 4016), (u'AEX', 3146), (u'10551', 84), (u'OAJ', 1136), (u'12511', 58), (u'SPS', 1234), (u'HYS', 573), (u'14492', 3002), (u'CVG', 20031), (u'11066', 2188), (u'ERI', 746), (u'13367', 308), (u'12441', 158), (u'DIK', 938), (u'SAF', 1504), (u'10685', 238), (u'SAT', 29788), (u'EWN', 575), (u'PDX', 47085), (u'11471', 62), (u'FSM', 1971), (u'HRL', 3079), (u'AZO', 1845), (u'GRK', 4033), (u'ICT', 8096), (u'PHL', 66021), (u'15370', 1319), (u'12003', 190), (u'13158', 600), (u'15497', 14), (u'11905', 59), (u'CIU', 613), (u'14679', 6209), (u'KOA', 11114), (u'ATL', 346836), (u'10372', 59), (u'13342', 2642), (u'13377', 279), (u'11540', 1046), (u'DEN', 196055), (u'12945', 587), (u'PIH', 654), (u'SHV', 6099), (u'12758', 967), (u'STX', 939), (u'10581', 27), (u'10268', 57), (u'14150', 62), (u'ASE', 3562), (u'BUF', 16824), (u'13487', 10584), (u'15249', 279), (u'HOB', 571), (u'RAP', 3265), (u'TPA', 63906), (u'BQN', 1343), (u'DFW', 239551), (u'OMA', 16753), (u'15096', 640), (u'JAN', 7097), (u'ORF', 9374), (u'AUS', 42067), (u'ESC', 573), (u'15016', 4314), (u'CLT', 100324), (u'VEL', 206), (u'PBI', 22573), (u'11003', 532), (u'13184', 142), (u'LAN', 1849), (u'BHM', 12514), (u'13061', 203), (u'15607', 88), (u'ALB', 7459), (u'GTR', 927), (u'BRO', 2362), (u'LAX', 194673), (u'LEX', 5979), (u'12177', 53), (u'14100', 6094), (u'12892', 17728), (u'BOI', 11655), (u'FLL', 73624), (u'11884', 828), (u'10157', 122), (u'15323', 159), (u'13891', 1742), (u'JMS', 812), (u'LFT', 5149), (u'FAI', 2183), (u'PVD', 11058), (u'11996', 631), (u'13486', 171), (u'WRG', 664), (u'ABE', 2274), (u'BFL', 2637), (u'HPN', 7443), (u'EWR', 101772), (u'11587', 53), (u'GRI', 634), (u'10779', 62), (u'PSG', 664), (u'14689', 565), (u'SBA', 6017), (u'PWM', 4681), (u'BPT', 973), (u'JFK', 93811), (u'GNV', 2683), (u'MSY', 38804), (u'GUM', 334), (u'CAK', 6100), (u'10431', 284), (u'14321', 477), (u'PAH', 666), (u'10693', 4477), (u'14635', 1766), (u'10154', 28), (u'DAB', 1494), (u'AMA', 4214), (u'10994', 1207), (u'SCC', 855), (u'11973', 304), (u'GGG', 643), (u'GEG', 9505), (u'ONT', 17978), (u'DLG', 77), (u'12888', 53), (u'CLD', 641), (u'10721', 10164), (u'15919', 941), (u'11292', 18136), (u'10781', 659), (u'YAK', 662), (u'13290', 151), (u'BNA', 47580), (u'11049', 223), (u'11146', 224), (u'SBP', 3133), (u'14543', 57), (u'SDF', 10204), (u'IND', 25558), (u'ORD', 285884), (u'11648', 123), (u'CID', 6832), (u'13871', 1501), (u'ILM', 1860), (u'FWA', 5261), (u'SJC', 38200), (u'11637', 527), (u'FAY', 1633), (u'14771', 14170), (u'10155', 148), (u'13264', 243), (u'11921', 271), (u'12094', 20), (u'MDW', 80886), (u'DHN', 1260), (u'12951', 431), (u'12889', 12688), (u'CLE', 34589), (u'11413', 178), (u'14588', 92), (u'MLU', 2961), (u'ABY', 876), (u'13433', 218), (u'BTV', 2978), (u'LRD', 2202), (u'SNA', 37187), (u'PSE', 749), (u'SFO', 148008), (u'PLN', 753), (u'10599', 1146)]\n",
      "\n",
      "\n"
     ]
    },
    {
     "ename": "KeyboardInterrupt",
     "evalue": "",
     "output_type": "error",
     "traceback": [
      "\u001b[0;31m---------------------------------------------------------------------------\u001b[0m",
      "\u001b[0;31mKeyboardInterrupt\u001b[0m                         Traceback (most recent call last)",
      "\u001b[0;32m<ipython-input-18-52836ec73851>\u001b[0m in \u001b[0;36m<module>\u001b[0;34m()\u001b[0m\n\u001b[1;32m      1\u001b[0m \u001b[0mstart_time\u001b[0m \u001b[1;33m=\u001b[0m \u001b[0mtime\u001b[0m\u001b[1;33m.\u001b[0m\u001b[0mtime\u001b[0m\u001b[1;33m(\u001b[0m\u001b[1;33m)\u001b[0m\u001b[1;33m\u001b[0m\u001b[0m\n\u001b[0;32m----> 2\u001b[0;31m \u001b[0migOrigin\u001b[0m \u001b[1;33m=\u001b[0m \u001b[0minfoGain\u001b[0m\u001b[1;33m(\u001b[0m\u001b[0mfeatOrigin\u001b[0m\u001b[1;33m,\u001b[0m \u001b[0mCancelled\u001b[0m\u001b[1;33m,\u001b[0m \u001b[0mH\u001b[0m\u001b[1;33m)\u001b[0m\u001b[1;33m\u001b[0m\u001b[0m\n\u001b[0m\u001b[1;32m      3\u001b[0m \u001b[1;32mprint\u001b[0m \u001b[0migOrigin\u001b[0m\u001b[1;33m\u001b[0m\u001b[0m\n\u001b[1;32m      4\u001b[0m \u001b[1;32mprint\u001b[0m\u001b[1;33m(\u001b[0m\u001b[1;34m\"--- %s seconds ---\"\u001b[0m \u001b[1;33m%\u001b[0m \u001b[1;33m(\u001b[0m\u001b[0mtime\u001b[0m\u001b[1;33m.\u001b[0m\u001b[0mtime\u001b[0m\u001b[1;33m(\u001b[0m\u001b[1;33m)\u001b[0m \u001b[1;33m-\u001b[0m \u001b[0mstart_time\u001b[0m\u001b[1;33m)\u001b[0m\u001b[1;33m)\u001b[0m\u001b[1;33m\u001b[0m\u001b[0m\n\u001b[1;32m      5\u001b[0m \u001b[1;32mprint\u001b[0m \u001b[1;34m\"numer of partition:\"\u001b[0m\u001b[1;33m,\u001b[0m \u001b[0mnumPartitions\u001b[0m\u001b[1;33m\u001b[0m\u001b[0m\n",
      "\u001b[0;32m<ipython-input-6-32979c928042>\u001b[0m in \u001b[0;36minfoGain\u001b[0;34m(feature, classe, H)\u001b[0m\n\u001b[1;32m     48\u001b[0m \u001b[1;33m\u001b[0m\u001b[0m\n\u001b[1;32m     49\u001b[0m     \u001b[1;31m# calcula as Entropias de um conjunto da classe dado cada um dos estados do atributo\u001b[0m\u001b[1;33m\u001b[0m\u001b[1;33m\u001b[0m\u001b[0m\n\u001b[0;32m---> 50\u001b[0;31m     \u001b[0mentropiasN\u001b[0m \u001b[1;33m=\u001b[0m \u001b[1;33m[\u001b[0m\u001b[0mEntropia\u001b[0m\u001b[1;33m(\u001b[0m\u001b[0mclasse\u001b[0m\u001b[1;33m.\u001b[0m\u001b[0mzip\u001b[0m\u001b[1;33m(\u001b[0m\u001b[0mfeature\u001b[0m\u001b[1;33m)\u001b[0m\u001b[1;33m.\u001b[0m\u001b[0mfilter\u001b[0m\u001b[1;33m(\u001b[0m\u001b[1;32mlambda\u001b[0m \u001b[0mx\u001b[0m\u001b[1;33m:\u001b[0m \u001b[0mx\u001b[0m\u001b[1;33m[\u001b[0m\u001b[1;36m1\u001b[0m\u001b[1;33m]\u001b[0m\u001b[1;33m==\u001b[0m\u001b[0mv\u001b[0m\u001b[1;33m)\u001b[0m\u001b[1;33m.\u001b[0m\u001b[0mmap\u001b[0m\u001b[1;33m(\u001b[0m\u001b[1;32mlambda\u001b[0m \u001b[0mx\u001b[0m\u001b[1;33m:\u001b[0m \u001b[0mx\u001b[0m\u001b[1;33m[\u001b[0m\u001b[1;36m0\u001b[0m\u001b[1;33m]\u001b[0m\u001b[1;33m)\u001b[0m\u001b[1;33m)\u001b[0m  \u001b[1;32mfor\u001b[0m \u001b[0mv\u001b[0m\u001b[1;33m,\u001b[0m\u001b[0m_\u001b[0m \u001b[1;32min\u001b[0m \u001b[0mfeat_count\u001b[0m\u001b[1;33m]\u001b[0m\u001b[1;33m\u001b[0m\u001b[0m\n\u001b[0m\u001b[1;32m     51\u001b[0m \u001b[1;33m\u001b[0m\u001b[0m\n\u001b[1;32m     52\u001b[0m     \u001b[1;31m# calcula a quantidade de itens no atributo\u001b[0m\u001b[1;33m\u001b[0m\u001b[1;33m\u001b[0m\u001b[0m\n",
      "\u001b[0;32m<ipython-input-6-32979c928042>\u001b[0m in \u001b[0;36mEntropia\u001b[0;34m(classe)\u001b[0m\n\u001b[1;32m     21\u001b[0m     \u001b[1;31m## a função map faz o calculo da Entropia de cada um dos estados\u001b[0m\u001b[1;33m\u001b[0m\u001b[1;33m\u001b[0m\u001b[0m\n\u001b[1;32m     22\u001b[0m     \u001b[1;31m## a função reduce faz o somatório da entropia de Shannon\u001b[0m\u001b[1;33m\u001b[0m\u001b[1;33m\u001b[0m\u001b[0m\n\u001b[0;32m---> 23\u001b[0;31m     \u001b[0mentropia\u001b[0m \u001b[1;33m=\u001b[0m \u001b[1;33m(\u001b[0m\u001b[0mprobs\u001b[0m\u001b[1;33m.\u001b[0m\u001b[0mmap\u001b[0m\u001b[1;33m(\u001b[0m\u001b[1;32mlambda\u001b[0m \u001b[0mp\u001b[0m\u001b[1;33m:\u001b[0m \u001b[1;33m-\u001b[0m\u001b[0mp\u001b[0m\u001b[1;33m*\u001b[0m\u001b[0mmath\u001b[0m\u001b[1;33m.\u001b[0m\u001b[0mlog\u001b[0m\u001b[1;33m(\u001b[0m\u001b[0mp\u001b[0m\u001b[1;33m,\u001b[0m\u001b[1;36m2\u001b[0m\u001b[1;33m)\u001b[0m\u001b[1;33m)\u001b[0m\u001b[1;33m.\u001b[0m\u001b[0mreduce\u001b[0m\u001b[1;33m(\u001b[0m\u001b[1;32mlambda\u001b[0m \u001b[0ma\u001b[0m\u001b[1;33m,\u001b[0m\u001b[0mb\u001b[0m\u001b[1;33m:\u001b[0m \u001b[0ma\u001b[0m \u001b[1;33m+\u001b[0m \u001b[0mb\u001b[0m\u001b[1;33m)\u001b[0m\u001b[1;33m)\u001b[0m\u001b[1;33m\u001b[0m\u001b[0m\n\u001b[0m\u001b[1;32m     24\u001b[0m \u001b[1;33m\u001b[0m\u001b[0m\n\u001b[1;32m     25\u001b[0m     \u001b[1;31m# retorna valor escalar referênte a entropia do RDD.\u001b[0m\u001b[1;33m\u001b[0m\u001b[1;33m\u001b[0m\u001b[0m\n",
      "\u001b[0;32mC:\\Users\\sergi\\Anaconda2\\lib\\site-packages\\pyspark\\rdd.pyc\u001b[0m in \u001b[0;36mreduce\u001b[0;34m(self, f)\u001b[0m\n\u001b[1;32m    848\u001b[0m             \u001b[1;32myield\u001b[0m \u001b[0mreduce\u001b[0m\u001b[1;33m(\u001b[0m\u001b[0mf\u001b[0m\u001b[1;33m,\u001b[0m \u001b[0miterator\u001b[0m\u001b[1;33m,\u001b[0m \u001b[0minitial\u001b[0m\u001b[1;33m)\u001b[0m\u001b[1;33m\u001b[0m\u001b[0m\n\u001b[1;32m    849\u001b[0m \u001b[1;33m\u001b[0m\u001b[0m\n\u001b[0;32m--> 850\u001b[0;31m         \u001b[0mvals\u001b[0m \u001b[1;33m=\u001b[0m \u001b[0mself\u001b[0m\u001b[1;33m.\u001b[0m\u001b[0mmapPartitions\u001b[0m\u001b[1;33m(\u001b[0m\u001b[0mfunc\u001b[0m\u001b[1;33m)\u001b[0m\u001b[1;33m.\u001b[0m\u001b[0mcollect\u001b[0m\u001b[1;33m(\u001b[0m\u001b[1;33m)\u001b[0m\u001b[1;33m\u001b[0m\u001b[0m\n\u001b[0m\u001b[1;32m    851\u001b[0m         \u001b[1;32mif\u001b[0m \u001b[0mvals\u001b[0m\u001b[1;33m:\u001b[0m\u001b[1;33m\u001b[0m\u001b[0m\n\u001b[1;32m    852\u001b[0m             \u001b[1;32mreturn\u001b[0m \u001b[0mreduce\u001b[0m\u001b[1;33m(\u001b[0m\u001b[0mf\u001b[0m\u001b[1;33m,\u001b[0m \u001b[0mvals\u001b[0m\u001b[1;33m)\u001b[0m\u001b[1;33m\u001b[0m\u001b[0m\n",
      "\u001b[0;32mC:\\Users\\sergi\\Anaconda2\\lib\\site-packages\\pyspark\\rdd.pyc\u001b[0m in \u001b[0;36mcollect\u001b[0;34m(self)\u001b[0m\n\u001b[1;32m    822\u001b[0m         \"\"\"\n\u001b[1;32m    823\u001b[0m         \u001b[1;32mwith\u001b[0m \u001b[0mSCCallSiteSync\u001b[0m\u001b[1;33m(\u001b[0m\u001b[0mself\u001b[0m\u001b[1;33m.\u001b[0m\u001b[0mcontext\u001b[0m\u001b[1;33m)\u001b[0m \u001b[1;32mas\u001b[0m \u001b[0mcss\u001b[0m\u001b[1;33m:\u001b[0m\u001b[1;33m\u001b[0m\u001b[0m\n\u001b[0;32m--> 824\u001b[0;31m             \u001b[0mport\u001b[0m \u001b[1;33m=\u001b[0m \u001b[0mself\u001b[0m\u001b[1;33m.\u001b[0m\u001b[0mctx\u001b[0m\u001b[1;33m.\u001b[0m\u001b[0m_jvm\u001b[0m\u001b[1;33m.\u001b[0m\u001b[0mPythonRDD\u001b[0m\u001b[1;33m.\u001b[0m\u001b[0mcollectAndServe\u001b[0m\u001b[1;33m(\u001b[0m\u001b[0mself\u001b[0m\u001b[1;33m.\u001b[0m\u001b[0m_jrdd\u001b[0m\u001b[1;33m.\u001b[0m\u001b[0mrdd\u001b[0m\u001b[1;33m(\u001b[0m\u001b[1;33m)\u001b[0m\u001b[1;33m)\u001b[0m\u001b[1;33m\u001b[0m\u001b[0m\n\u001b[0m\u001b[1;32m    825\u001b[0m         \u001b[1;32mreturn\u001b[0m \u001b[0mlist\u001b[0m\u001b[1;33m(\u001b[0m\u001b[0m_load_from_socket\u001b[0m\u001b[1;33m(\u001b[0m\u001b[0mport\u001b[0m\u001b[1;33m,\u001b[0m \u001b[0mself\u001b[0m\u001b[1;33m.\u001b[0m\u001b[0m_jrdd_deserializer\u001b[0m\u001b[1;33m)\u001b[0m\u001b[1;33m)\u001b[0m\u001b[1;33m\u001b[0m\u001b[0m\n\u001b[1;32m    826\u001b[0m \u001b[1;33m\u001b[0m\u001b[0m\n",
      "\u001b[0;32mC:\\Users\\sergi\\Anaconda2\\lib\\site-packages\\py4j\\java_gateway.pyc\u001b[0m in \u001b[0;36m__call__\u001b[0;34m(self, *args)\u001b[0m\n\u001b[1;32m   1156\u001b[0m             \u001b[0mproto\u001b[0m\u001b[1;33m.\u001b[0m\u001b[0mEND_COMMAND_PART\u001b[0m\u001b[1;33m\u001b[0m\u001b[0m\n\u001b[1;32m   1157\u001b[0m \u001b[1;33m\u001b[0m\u001b[0m\n\u001b[0;32m-> 1158\u001b[0;31m         \u001b[0manswer\u001b[0m \u001b[1;33m=\u001b[0m \u001b[0mself\u001b[0m\u001b[1;33m.\u001b[0m\u001b[0mgateway_client\u001b[0m\u001b[1;33m.\u001b[0m\u001b[0msend_command\u001b[0m\u001b[1;33m(\u001b[0m\u001b[0mcommand\u001b[0m\u001b[1;33m)\u001b[0m\u001b[1;33m\u001b[0m\u001b[0m\n\u001b[0m\u001b[1;32m   1159\u001b[0m         return_value = get_return_value(\n\u001b[1;32m   1160\u001b[0m             answer, self.gateway_client, self.target_id, self.name)\n",
      "\u001b[0;32mC:\\Users\\sergi\\Anaconda2\\lib\\site-packages\\py4j\\java_gateway.pyc\u001b[0m in \u001b[0;36msend_command\u001b[0;34m(self, command, retry, binary)\u001b[0m\n\u001b[1;32m    906\u001b[0m         \u001b[0mconnection\u001b[0m \u001b[1;33m=\u001b[0m \u001b[0mself\u001b[0m\u001b[1;33m.\u001b[0m\u001b[0m_get_connection\u001b[0m\u001b[1;33m(\u001b[0m\u001b[1;33m)\u001b[0m\u001b[1;33m\u001b[0m\u001b[0m\n\u001b[1;32m    907\u001b[0m         \u001b[1;32mtry\u001b[0m\u001b[1;33m:\u001b[0m\u001b[1;33m\u001b[0m\u001b[0m\n\u001b[0;32m--> 908\u001b[0;31m             \u001b[0mresponse\u001b[0m \u001b[1;33m=\u001b[0m \u001b[0mconnection\u001b[0m\u001b[1;33m.\u001b[0m\u001b[0msend_command\u001b[0m\u001b[1;33m(\u001b[0m\u001b[0mcommand\u001b[0m\u001b[1;33m)\u001b[0m\u001b[1;33m\u001b[0m\u001b[0m\n\u001b[0m\u001b[1;32m    909\u001b[0m             \u001b[1;32mif\u001b[0m \u001b[0mbinary\u001b[0m\u001b[1;33m:\u001b[0m\u001b[1;33m\u001b[0m\u001b[0m\n\u001b[1;32m    910\u001b[0m                 \u001b[1;32mreturn\u001b[0m \u001b[0mresponse\u001b[0m\u001b[1;33m,\u001b[0m \u001b[0mself\u001b[0m\u001b[1;33m.\u001b[0m\u001b[0m_create_connection_guard\u001b[0m\u001b[1;33m(\u001b[0m\u001b[0mconnection\u001b[0m\u001b[1;33m)\u001b[0m\u001b[1;33m\u001b[0m\u001b[0m\n",
      "\u001b[0;32mC:\\Users\\sergi\\Anaconda2\\lib\\site-packages\\py4j\\java_gateway.pyc\u001b[0m in \u001b[0;36msend_command\u001b[0;34m(self, command)\u001b[0m\n\u001b[1;32m   1053\u001b[0m \u001b[1;33m\u001b[0m\u001b[0m\n\u001b[1;32m   1054\u001b[0m         \u001b[1;32mtry\u001b[0m\u001b[1;33m:\u001b[0m\u001b[1;33m\u001b[0m\u001b[0m\n\u001b[0;32m-> 1055\u001b[0;31m             \u001b[0manswer\u001b[0m \u001b[1;33m=\u001b[0m \u001b[0msmart_decode\u001b[0m\u001b[1;33m(\u001b[0m\u001b[0mself\u001b[0m\u001b[1;33m.\u001b[0m\u001b[0mstream\u001b[0m\u001b[1;33m.\u001b[0m\u001b[0mreadline\u001b[0m\u001b[1;33m(\u001b[0m\u001b[1;33m)\u001b[0m\u001b[1;33m[\u001b[0m\u001b[1;33m:\u001b[0m\u001b[1;33m-\u001b[0m\u001b[1;36m1\u001b[0m\u001b[1;33m]\u001b[0m\u001b[1;33m)\u001b[0m\u001b[1;33m\u001b[0m\u001b[0m\n\u001b[0m\u001b[1;32m   1056\u001b[0m             \u001b[0mlogger\u001b[0m\u001b[1;33m.\u001b[0m\u001b[0mdebug\u001b[0m\u001b[1;33m(\u001b[0m\u001b[1;34m\"Answer received: {0}\"\u001b[0m\u001b[1;33m.\u001b[0m\u001b[0mformat\u001b[0m\u001b[1;33m(\u001b[0m\u001b[0manswer\u001b[0m\u001b[1;33m)\u001b[0m\u001b[1;33m)\u001b[0m\u001b[1;33m\u001b[0m\u001b[0m\n\u001b[1;32m   1057\u001b[0m             \u001b[1;32mif\u001b[0m \u001b[0manswer\u001b[0m\u001b[1;33m.\u001b[0m\u001b[0mstartswith\u001b[0m\u001b[1;33m(\u001b[0m\u001b[0mproto\u001b[0m\u001b[1;33m.\u001b[0m\u001b[0mRETURN_MESSAGE\u001b[0m\u001b[1;33m)\u001b[0m\u001b[1;33m:\u001b[0m\u001b[1;33m\u001b[0m\u001b[0m\n",
      "\u001b[0;32mC:\\Users\\sergi\\Anaconda2\\lib\\socket.pyc\u001b[0m in \u001b[0;36mreadline\u001b[0;34m(self, size)\u001b[0m\n\u001b[1;32m    449\u001b[0m             \u001b[1;32mwhile\u001b[0m \u001b[0mTrue\u001b[0m\u001b[1;33m:\u001b[0m\u001b[1;33m\u001b[0m\u001b[0m\n\u001b[1;32m    450\u001b[0m                 \u001b[1;32mtry\u001b[0m\u001b[1;33m:\u001b[0m\u001b[1;33m\u001b[0m\u001b[0m\n\u001b[0;32m--> 451\u001b[0;31m                     \u001b[0mdata\u001b[0m \u001b[1;33m=\u001b[0m \u001b[0mself\u001b[0m\u001b[1;33m.\u001b[0m\u001b[0m_sock\u001b[0m\u001b[1;33m.\u001b[0m\u001b[0mrecv\u001b[0m\u001b[1;33m(\u001b[0m\u001b[0mself\u001b[0m\u001b[1;33m.\u001b[0m\u001b[0m_rbufsize\u001b[0m\u001b[1;33m)\u001b[0m\u001b[1;33m\u001b[0m\u001b[0m\n\u001b[0m\u001b[1;32m    452\u001b[0m                 \u001b[1;32mexcept\u001b[0m \u001b[0merror\u001b[0m\u001b[1;33m,\u001b[0m \u001b[0me\u001b[0m\u001b[1;33m:\u001b[0m\u001b[1;33m\u001b[0m\u001b[0m\n\u001b[1;32m    453\u001b[0m                     \u001b[1;32mif\u001b[0m \u001b[0me\u001b[0m\u001b[1;33m.\u001b[0m\u001b[0margs\u001b[0m\u001b[1;33m[\u001b[0m\u001b[1;36m0\u001b[0m\u001b[1;33m]\u001b[0m \u001b[1;33m==\u001b[0m \u001b[0mEINTR\u001b[0m\u001b[1;33m:\u001b[0m\u001b[1;33m\u001b[0m\u001b[0m\n",
      "\u001b[0;31mKeyboardInterrupt\u001b[0m: "
     ]
    }
   ],
   "source": [
    "start_time = time.time()\n",
    "igOrigin = infoGain(featOrigin, Cancelled, H)\n",
    "print igOrigin\n",
    "print(\"--- %s seconds ---\" % (time.time() - start_time))\n",
    "print \"numer of partition:\", numPartitions"
   ]
  },
  {
   "cell_type": "code",
   "execution_count": null,
   "metadata": {
    "collapsed": true
   },
   "outputs": [],
   "source": [
    "beep(10)"
   ]
  },
  {
   "cell_type": "code",
   "execution_count": null,
   "metadata": {
    "collapsed": true
   },
   "outputs": [],
   "source": [
    "start_time = time.time()\n",
    "igDest = infoGain(featDest, Cancelled, H)\n",
    "print igDest\n",
    "print(\"--- %s seconds ---\" % (time.time() - start_time))\n",
    "print \"numer of partition:\", numPartitions"
   ]
  },
  {
   "cell_type": "code",
   "execution_count": null,
   "metadata": {
    "collapsed": true
   },
   "outputs": [],
   "source": []
  },
  {
   "cell_type": "code",
   "execution_count": 7,
   "metadata": {
    "collapsed": true
   },
   "outputs": [],
   "source": [
    "feat_count = Cancelled.map(lambda x: (x, 1))\\\n",
    "                        .reduceByKey(lambda a,b: a + b)\\\n",
    "                        .collect()"
   ]
  },
  {
   "cell_type": "code",
   "execution_count": 8,
   "metadata": {},
   "outputs": [
    {
     "name": "stdout",
     "output_type": "stream",
     "text": [
      "[(u'1', 89884), (u'0', 5729195)]\n"
     ]
    }
   ],
   "source": [
    "print feat_count\n"
   ]
  }
 ],
 "metadata": {
  "kernelspec": {
   "display_name": "Python 2",
   "language": "python",
   "name": "python2"
  },
  "language_info": {
   "codemirror_mode": {
    "name": "ipython",
    "version": 2
   },
   "file_extension": ".py",
   "mimetype": "text/x-python",
   "name": "python",
   "nbconvert_exporter": "python",
   "pygments_lexer": "ipython2",
   "version": "2.7.13"
  }
 },
 "nbformat": 4,
 "nbformat_minor": 2
}
